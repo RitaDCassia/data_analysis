{
  "nbformat": 4,
  "nbformat_minor": 0,
  "metadata": {
    "colab": {
      "provenance": [],
      "authorship_tag": "ABX9TyOxedpHk6ZDjLmmCuF6Ar+J",
      "include_colab_link": true
    },
    "kernelspec": {
      "name": "python3",
      "display_name": "Python 3"
    },
    "language_info": {
      "name": "python"
    }
  },
  "cells": [
    {
      "cell_type": "markdown",
      "metadata": {
        "id": "view-in-github",
        "colab_type": "text"
      },
      "source": [
        "<a href=\"https://colab.research.google.com/github/RitaDCassia/data_analysis/blob/main/medidas_centralizade_variabilidade.ipynb\" target=\"_parent\"><img src=\"https://colab.research.google.com/assets/colab-badge.svg\" alt=\"Open In Colab\"/></a>"
      ]
    },
    {
      "cell_type": "code",
      "execution_count": 1,
      "metadata": {
        "id": "H5VSY1xqdICa"
      },
      "outputs": [],
      "source": [
        "import numpy as np\n",
        "from scipy import stats"
      ]
    },
    {
      "cell_type": "code",
      "source": [
        "# criacao da variavel com os dados dos jogadores, visualizacao da mediana e media\n",
        "jogadores = [40000, 18000, 12000, 25000, 30000, 140000, 300000, 40000, 800000]\n",
        "np.mean(jogadores)"
      ],
      "metadata": {
        "colab": {
          "base_uri": "https://localhost:8080/"
        },
        "id": "wxC6aCvrdZSj",
        "outputId": "be248f58-9631-4b61-c516-988421aab165"
      },
      "execution_count": 2,
      "outputs": [
        {
          "output_type": "execute_result",
          "data": {
            "text/plain": [
              "156111.11111111112"
            ]
          },
          "metadata": {},
          "execution_count": 2
        }
      ]
    },
    {
      "cell_type": "code",
      "source": [
        "np.median(jogadores)"
      ],
      "metadata": {
        "colab": {
          "base_uri": "https://localhost:8080/"
        },
        "id": "9GVfjpUfe6aF",
        "outputId": "e31d69b3-4208-4029-f7f8-4097cd524e07"
      },
      "execution_count": 3,
      "outputs": [
        {
          "output_type": "execute_result",
          "data": {
            "text/plain": [
              "40000.0"
            ]
          },
          "metadata": {},
          "execution_count": 3
        }
      ]
    },
    {
      "cell_type": "code",
      "source": [
        "# geracao de quartis (0%, 25%, 50%, 75% e 100%)\n",
        "quartis = np.quantile(jogadores, [0, 0.25, 0.5, 0.75, 1])\n",
        "quartis"
      ],
      "metadata": {
        "colab": {
          "base_uri": "https://localhost:8080/"
        },
        "id": "BxvptpvHfBhQ",
        "outputId": "e229e18d-e6e0-4f85-f96c-7ca157f02268"
      },
      "execution_count": 4,
      "outputs": [
        {
          "output_type": "execute_result",
          "data": {
            "text/plain": [
              "array([ 12000.,  25000.,  40000., 140000., 800000.])"
            ]
          },
          "metadata": {},
          "execution_count": 4
        }
      ]
    },
    {
      "cell_type": "code",
      "source": [
        "# visualizar o desvio padrao\n",
        "np.std(jogadores, ddof=1)"
      ],
      "metadata": {
        "colab": {
          "base_uri": "https://localhost:8080/"
        },
        "id": "qmv62636fUiJ",
        "outputId": "cb50dc09-1372-42be-8eda-30d9ab5ac357"
      },
      "execution_count": 6,
      "outputs": [
        {
          "output_type": "execute_result",
          "data": {
            "text/plain": [
              "258712.41004465"
            ]
          },
          "metadata": {},
          "execution_count": 6
        }
      ]
    },
    {
      "cell_type": "code",
      "source": [
        "# visualizar estatisticas maos detalhadas usandp scipy\n",
        "stats.describe(jogadores)"
      ],
      "metadata": {
        "colab": {
          "base_uri": "https://localhost:8080/"
        },
        "id": "zU3hNriwffBx",
        "outputId": "5791464e-7663-4eaa-fd52-3d5578669442"
      },
      "execution_count": 7,
      "outputs": [
        {
          "output_type": "execute_result",
          "data": {
            "text/plain": [
              "DescribeResult(nobs=9, minmax=(12000, 800000), mean=156111.11111111112, variance=66932111111.111115, skewness=1.9670433384868062, kurtosis=2.4626126386150444)"
            ]
          },
          "metadata": {},
          "execution_count": 7
        }
      ]
    }
  ]
}